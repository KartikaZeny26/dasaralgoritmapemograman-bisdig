{
  "nbformat": 4,
  "nbformat_minor": 0,
  "metadata": {
    "colab": {
      "provenance": []
    },
    "kernelspec": {
      "name": "python3",
      "display_name": "Python 3"
    },
    "language_info": {
      "name": "python"
    }
  },
  "cells": [
    {
      "cell_type": "code",
      "execution_count": null,
      "metadata": {
        "colab": {
          "base_uri": "https://localhost:8080/"
        },
        "id": "yG81zhrJDrHn",
        "outputId": "6b0e7f0b-2cc4-431f-fcbb-79096df3511c"
      },
      "outputs": [
        {
          "output_type": "stream",
          "name": "stdout",
          "text": [
            "Masukkan angka: 26\n",
            "Faktorial dari 26 adalah 403291461126605635584000000\n"
          ]
        }
      ],
      "source": [
        "def faktorial(n):\n",
        "    if n == 0 or n == 1:\n",
        "        return 1\n",
        "    else:\n",
        "        return n * faktorial(n - 1)\n",
        "\n",
        "# Input dari pengguna\n",
        "angka = int(input(\"Masukkan angka: \"))\n",
        "print(f\"Faktorial dari {angka} adalah {faktorial(angka)}\")\n"
      ]
    },
    {
      "cell_type": "code",
      "source": [
        "nilai_siswa = []\n",
        "\n",
        "for i in range(5):\n",
        "    nilai = int(input(f\"Masukkan nilai siswa ke-{i + 1}: \"))\n",
        "    nilai_siswa.append(nilai)\n",
        "\n",
        "nilai_tertinggi = max(nilai_siswa)\n",
        "indeks_tertinggi = nilai_siswa.index(nilai_tertinggi) + 1\n",
        "\n",
        "print(f\"Nilai tertinggi adalah {nilai_tertinggi}, diperoleh oleh siswa ke-{indeks_tertinggi}\")\n"
      ],
      "metadata": {
        "colab": {
          "base_uri": "https://localhost:8080/"
        },
        "id": "zJHPOABMGbBN",
        "outputId": "bd587b0d-212f-4657-e6e3-a9b0993b55eb"
      },
      "execution_count": null,
      "outputs": [
        {
          "output_type": "stream",
          "name": "stdout",
          "text": [
            "Masukkan nilai siswa ke-1: 90\n",
            "Masukkan nilai siswa ke-2: 100\n",
            "Masukkan nilai siswa ke-3: 85\n",
            "Masukkan nilai siswa ke-4: 50\n",
            "Masukkan nilai siswa ke-5: 65\n",
            "Nilai tertinggi adalah 100, diperoleh oleh siswa ke-2\n"
          ]
        }
      ]
    },
    {
      "cell_type": "code",
      "source": [
        "total_belanja = float(input(\"Masukkan total belanja Anda: Rp\"))\n",
        "\n",
        "if total_belanja > 500000:\n",
        "    diskon = 0.1 * total_belanja\n",
        "else:\n",
        "    diskon = 0\n",
        "\n",
        "total_bayar = total_belanja - diskon\n",
        "\n",
        "print(f\"Diskon: Rp{diskon}\")\n",
        "print(f\"Total bayar setelah diskon: Rp{total_bayar}\")\n"
      ],
      "metadata": {
        "colab": {
          "base_uri": "https://localhost:8080/"
        },
        "id": "ErY-FY_MGvX2",
        "outputId": "6c028479-99db-4c80-ff44-55fde11748a0"
      },
      "execution_count": null,
      "outputs": [
        {
          "output_type": "stream",
          "name": "stdout",
          "text": [
            "Masukkan total belanja Anda: Rp300000\n",
            "Diskon: Rp0\n",
            "Total bayar setelah diskon: Rp300000.0\n"
          ]
        }
      ]
    }
  ]
}