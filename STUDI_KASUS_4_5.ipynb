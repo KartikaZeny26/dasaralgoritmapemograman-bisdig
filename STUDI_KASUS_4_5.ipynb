{
  "nbformat": 4,
  "nbformat_minor": 0,
  "metadata": {
    "colab": {
      "provenance": []
    },
    "kernelspec": {
      "name": "python3",
      "display_name": "Python 3"
    },
    "language_info": {
      "name": "python"
    }
  },
  "cells": [
    {
      "cell_type": "code",
      "execution_count": null,
      "metadata": {
        "colab": {
          "base_uri": "https://localhost:8080/"
        },
        "id": "tpij9cnBfxDB",
        "outputId": "30d1ff70-5b76-487c-b3ad-c995ef416653"
      },
      "outputs": [
        {
          "output_type": "stream",
          "name": "stdout",
          "text": [
            "Masukkan harga barang pertama: 25000\n",
            "Masukkan harga barang kedua: 50000\n",
            "Masukkan harga barang ketiga: 15000\n",
            "Total pembayaran adalah: Rp 90000.0\n"
          ]
        }
      ],
      "source": [
        "# Program menghitung total harga 3 barang\n",
        "\n",
        "# Input harga barang\n",
        "harga1 = float(input(\"Masukkan harga barang pertama: \"))\n",
        "harga2 = float(input(\"Masukkan harga barang kedua: \"))\n",
        "harga3 = float(input(\"Masukkan harga barang ketiga: \"))\n",
        "\n",
        "# Hitung total harga\n",
        "total = harga1 + harga2 + harga3\n",
        "\n",
        "# Tampilkan total pembayaran\n",
        "print(\"Total pembayaran adalah: Rp\", total)\n"
      ]
    },
    {
      "cell_type": "code",
      "source": [
        "# Program menghitung rata-rata nilai dan menentukan kelulusan\n",
        "\n",
        "# Input nilai dari 3 mata pelajaran\n",
        "nilai1 = float(input(\"Masukkan nilai mata pelajaran pertama: \"))\n",
        "nilai2 = float(input(\"Masukkan nilai mata pelajaran kedua: \"))\n",
        "nilai3 = float(input(\"Masukkan nilai mata pelajaran ketiga: \"))\n",
        "\n",
        "# Hitung rata-rata\n",
        "rata_rata = (nilai1 + nilai2 + nilai3) / 3\n",
        "\n",
        "# Tentukan status kelulusan\n",
        "if rata_rata >= 75:\n",
        "    status = \"Lulus\"\n",
        "else:\n",
        "    status = \"Tidak Lulus\"\n",
        "\n",
        "# Tampilkan hasil\n",
        "print(\"Rata-rata nilai: \", rata_rata)\n",
        "print(\"Status kelulusan: \", status)\n"
      ],
      "metadata": {
        "colab": {
          "base_uri": "https://localhost:8080/"
        },
        "id": "tOzJSzOygNDW",
        "outputId": "a7329f88-ec7f-428a-e2a8-a3e3d8f4f861"
      },
      "execution_count": null,
      "outputs": [
        {
          "output_type": "stream",
          "name": "stdout",
          "text": [
            "Masukkan nilai mata pelajaran pertama: 100\n",
            "Masukkan nilai mata pelajaran kedua: 45\n",
            "Masukkan nilai mata pelajaran ketiga: 85\n",
            "Rata-rata nilai:  76.66666666666667\n",
            "Status kelulusan:  Lulus\n"
          ]
        }
      ]
    }
  ]
}